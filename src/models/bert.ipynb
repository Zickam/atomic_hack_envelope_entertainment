{
 "cells": [
  {
   "cell_type": "code",
   "execution_count": 1,
   "id": "initial_id",
   "metadata": {
    "collapsed": true,
    "ExecuteTime": {
     "end_time": "2024-06-15T02:17:37.151862Z",
     "start_time": "2024-06-15T02:17:33.997733600Z"
    }
   },
   "outputs": [
    {
     "name": "stderr",
     "output_type": "stream",
     "text": [
      "C:\\Users\\User\\anaconda3\\Lib\\site-packages\\transformers\\utils\\generic.py:260: UserWarning: torch.utils._pytree._register_pytree_node is deprecated. Please use torch.utils._pytree.register_pytree_node instead.\n",
      "  torch.utils._pytree._register_pytree_node(\n"
     ]
    }
   ],
   "source": [
    "import nltk\n",
    "from transformers import BertTokenizer, BertModel\n",
    "import torch\n",
    "import numpy as np\n",
    "from data_preprocessing.pdf_extract import pdf_extract\n",
    "from sklearn.metrics.pairwise import cosine_similarity\n",
    "from nltk.tokenize import sent_tokenize\n",
    "from nltk import download"
   ]
  },
  {
   "cell_type": "code",
   "outputs": [],
   "source": [
    "tokenizer = BertTokenizer.from_pretrained('bert-base-uncased')\n",
    "model = BertModel.from_pretrained('bert-base-uncased')"
   ],
   "metadata": {
    "collapsed": false,
    "ExecuteTime": {
     "end_time": "2024-06-15T02:17:39.137561300Z",
     "start_time": "2024-06-15T02:17:37.152866500Z"
    }
   },
   "id": "20f3a83bf99ab297",
   "execution_count": 2
  },
  {
   "cell_type": "code",
   "outputs": [],
   "source": [
    "def embed_text(text, tokenizer, model):\n",
    "    inputs = tokenizer(text, return_tensors='pt', truncation=True, padding=True)\n",
    "    outputs = model(**inputs)\n",
    "    embeddings = outputs.last_hidden_state.mean(dim=1).detach().numpy()\n",
    "    return embeddings"
   ],
   "metadata": {
    "collapsed": false,
    "ExecuteTime": {
     "end_time": "2024-06-15T02:17:39.144026900Z",
     "start_time": "2024-06-15T02:17:39.141021100Z"
    }
   },
   "id": "5753960b573a2e64",
   "execution_count": 3
  },
  {
   "cell_type": "code",
   "outputs": [
    {
     "name": "stderr",
     "output_type": "stream",
     "text": [
      "[nltk_data] Downloading package punkt to\n",
      "[nltk_data]     C:\\Users\\User\\AppData\\Roaming\\nltk_data...\n",
      "[nltk_data]   Package punkt is already up-to-date!\n"
     ]
    }
   ],
   "source": [
    "download(\"punkt\")\n",
    "\n",
    "\n",
    "def split_text(text: str) -> list[str]:\n",
    "    return sent_tokenize(text)"
   ],
   "metadata": {
    "collapsed": false,
    "ExecuteTime": {
     "end_time": "2024-06-15T02:17:39.503189400Z",
     "start_time": "2024-06-15T02:17:39.144026900Z"
    }
   },
   "id": "f390b32b22ba7617",
   "execution_count": 4
  },
  {
   "cell_type": "code",
   "outputs": [],
   "source": [
    "def split_text_into_paragraphs(text):\n",
    "    paragraphs = text.split('\\n \\n')  # Разделяем текст по двойному переводу строки\n",
    "    paragraphs = [p.strip().replace('\\n', '') for p in paragraphs if\n",
    "                  p.strip()]  # Убираем лишние пробелы и пустые строки\n",
    "    \n",
    "    for paragraph in range(len(paragraphs)):\n",
    "        if 'Рисунок' in paragraphs[paragraph]:\n",
    "            paragraphs[paragraph] = ''\n",
    "    return paragraphs\n",
    "\n",
    "\n",
    "text = pdf_extract(\n",
    "    'data/dataset/Для Хакатона/Инструкция D-1C1-1.20.02 Анализ взаиморасчетов по закупкам (1).pdf')"
   ],
   "metadata": {
    "collapsed": false,
    "ExecuteTime": {
     "end_time": "2024-06-15T02:17:39.690506500Z",
     "start_time": "2024-06-15T02:17:39.508186700Z"
    }
   },
   "id": "9159f3dfec5ee3e8",
   "execution_count": 5
  },
  {
   "cell_type": "code",
   "outputs": [],
   "source": [
    "def embed_pars(paragraphs, tokenizer, model):\n",
    "    paragraph_embeddings = []\n",
    "\n",
    "    for paragraph in paragraphs:\n",
    "        inputs = tokenizer(paragraph, return_tensors='pt', truncation=True, padding=True)\n",
    "        outputs = model(**inputs)\n",
    "        embedding = outputs.last_hidden_state.mean(dim=1).detach().numpy()\n",
    "        paragraph_embeddings.append(embedding)\n",
    "\n",
    "    paragraph_embeddings = np.vstack(paragraph_embeddings)\n",
    "    return paragraph_embeddings"
   ],
   "metadata": {
    "collapsed": false,
    "ExecuteTime": {
     "end_time": "2024-06-15T02:17:39.695759Z",
     "start_time": "2024-06-15T02:17:39.692508900Z"
    }
   },
   "id": "3f551e0d5056a39b",
   "execution_count": 6
  },
  {
   "cell_type": "code",
   "outputs": [],
   "source": [
    "def semantic_search(query, paragraphs, tokenizer, model):\n",
    "    query_embedding = embed_text(query, tokenizer, model)\n",
    "    paragraph_embeddings = embed_pars(paragraphs, tokenizer, model)\n",
    "    \n",
    "    similarities = cosine_similarity(query_embedding, paragraph_embeddings)\n",
    "    most_similar_idx = np.argmax(similarities)\n",
    "    \n",
    "    return paragraphs[most_similar_idx], similarities[0][most_similar_idx]"
   ],
   "metadata": {
    "collapsed": false,
    "ExecuteTime": {
     "end_time": "2024-06-15T02:17:39.706430600Z",
     "start_time": "2024-06-15T02:17:39.696758900Z"
    }
   },
   "id": "b9eaf76cd355115c",
   "execution_count": 7
  },
  {
   "cell_type": "code",
   "outputs": [
    {
     "data": {
      "text/plain": "'  Инструкция пользователей D - 1C1 - 1.20.02  Анализ взаиморасчетов по закупкам   Автор  ООО \"НПЦ \"1С\"  Инструкция пользователей « D - 1C1 - 1.20.02  Анализ взаиморасчетов по закупкам »  Страница  17  Страниц  18  Версия  2   2.2.1.6  Формирование отчета « Выполнение условий по договорам контрагентов »  Отчет « Выполнение условий по договорам контрагентов » предназначен для контроля поставок, оформленных по договору с контрагентом. Отчет формируется за указанный пользователем период.  В отчет е выводится два вида показателей –  по выполнению поставок в суммовом отношении и в количественном. При этом выводятся те данные, которые были определены в заказе поставщику или заказе клиента, и те реальные данные поступления или отгрузок, которые были про изведены за период, выбранный в отчете.  Отчет может быть сгруппирован по контрагентам и договорам. .  Отчет « Выполнение условий по договорам контрагентов » расположен в разделе ( Закупки \\uf0e0 Отчеты  по закупкам \\uf0e0 Закупки (га) \\uf0e0  Выполнение условий по договорам контрагентов ).   Рисунок  12 : Расположение отчета « Выполнение условий по договорам контрагентов » в ИС  Откроется форма отчета. Основными критериями отбора являются:    «Период»  -  выбрать период, за  который формируется отчет;  Для использования дополнительных от боров необходимо пройти по кнопке . Формирование отчета происходит по кнопке . В результате будет сформирован отчет.  '"
     },
     "execution_count": 12,
     "metadata": {},
     "output_type": "execute_result"
    }
   ],
   "source": [
    "most_similar_paragraph, similarity_score = semantic_search('отчет для контрагентов', text, tokenizer, model)\n",
    "most_similar_paragraph"
   ],
   "metadata": {
    "collapsed": false,
    "ExecuteTime": {
     "end_time": "2024-06-15T02:23:03.682173800Z",
     "start_time": "2024-06-15T02:22:58.341073100Z"
    }
   },
   "id": "d4b3d462648d313b",
   "execution_count": 12
  },
  {
   "cell_type": "code",
   "outputs": [
    {
     "data": {
      "text/plain": "'  Инструкция пользователей D - 1C1 - 1.20.02  Анализ взаиморасчетов по закупкам   Автор  ООО \"НПЦ \"1С\"  Инструкция пользователей « D - 1C1 - 1.20.02  Анализ взаиморасчетов по закупкам »  Страница  14  Страниц  18  Версия  2    Рисунок  7 : Расположение отчета « Сводная ведомость расчетов » в ИС  Примечание: если на форме «Расчеты с поставщи ками» не отображается отчет «Сводная ведомость расчетов», необходимо перейти в раздел «Настройка» в поиске набрать  «Сводная»  далее  поставить галку «Сводная ведомость расчетов»  '"
     },
     "execution_count": 9,
     "metadata": {},
     "output_type": "execute_result"
    }
   ],
   "source": [
    "most_similar_paragraph"
   ],
   "metadata": {
    "collapsed": false,
    "ExecuteTime": {
     "end_time": "2024-06-15T02:17:45.199272500Z",
     "start_time": "2024-06-15T02:17:45.193003300Z"
    }
   },
   "id": "5d5700286f3a8d32",
   "execution_count": 9
  }
 ],
 "metadata": {
  "kernelspec": {
   "display_name": "Python 3",
   "language": "python",
   "name": "python3"
  },
  "language_info": {
   "codemirror_mode": {
    "name": "ipython",
    "version": 2
   },
   "file_extension": ".py",
   "mimetype": "text/x-python",
   "name": "python",
   "nbconvert_exporter": "python",
   "pygments_lexer": "ipython2",
   "version": "2.7.6"
  }
 },
 "nbformat": 4,
 "nbformat_minor": 5
}
